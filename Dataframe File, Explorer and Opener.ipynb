{
 "cells": [
  {
   "cell_type": "code",
   "execution_count": 165,
   "metadata": {},
   "outputs": [],
   "source": [
    "import tkinter as tk\n",
    "from tkinter import messagebox, filedialog, ttk\n",
    "import pandas as pd"
   ]
  },
  {
   "cell_type": "markdown",
   "metadata": {},
   "source": [
    "Now its time to make the file explorer nicer and give it a nice layout. First python script lets you search, get the file path and can pick up CSV and XLSX files. \n",
    "Hopefully this file will do the same - show the contents of the file and then we will look at uplaoding it to a database."
   ]
  },
  {
   "cell_type": "code",
   "execution_count": 166,
   "metadata": {
    "scrolled": true
   },
   "outputs": [
    {
     "data": {
      "text/plain": [
       "''"
      ]
     },
     "execution_count": 166,
     "metadata": {},
     "output_type": "execute_result"
    }
   ],
   "source": [
    "root = tk.Tk() #widget with a title bar - intialised\n",
    "root.geometry(\"500x500\") #root starting geometry, 500 by 500 pixels\n",
    "root.pack_propagate(False) #don't repack yourself based on the things that are placed in there\n",
    "root.resizable(0,0) #don't resize"
   ]
  },
  {
   "cell_type": "code",
   "execution_count": 167,
   "metadata": {},
   "outputs": [],
   "source": [
    "frame1 = tk.LabelFrame(root, text = \"Excel Data\")\n",
    "frame1.place(height=250, width=500) #you can pack place, or grid into the widget. Pack just shoves it in any old way, grid makes \n",
    "#put your widget as a grid and select a location, place requires the specific pixels you want to cover"
   ]
  },
  {
   "cell_type": "code",
   "execution_count": 168,
   "metadata": {},
   "outputs": [],
   "source": [
    "#frame for open file dialog\n",
    "file_frame = tk.LabelFrame(root, text=\"Open file\")\n",
    "file_frame.place(height=100, width = 500, rely=0.65,relx=0)\n",
    "\n",
    "button1 = tk.Button(file_frame, text=\"Browse a File\", command = open)\n",
    "button1.place(rely=0.65, relx=0.7)\n",
    "\n",
    "button2 = tk.Button(file_frame, text=\"Load File\", command=Load_Excel_Data)\n",
    "button2.place(rely=0.65, relx=0.4)\n",
    "\n",
    "button3 = tk.Button(file_frame, text=\"Upload to DB\") #make database upload command\n",
    "button3.place(rely =0.65, relx = 0.1)\n",
    "\n",
    "label_file = ttk.Label(file_frame, text = \"No File Selected\") #ttk has newer widgets\n",
    "label_file.place(relx=0,rely=0)\n",
    "\n",
    "#tree view widget - how to visualise dataframe\n",
    "tv1 = ttk.Treeview(frame1)\n",
    "tv1.place(relheight = 1, relwidth = 1) #place inside frame_1 as the conatiner and fill the whole conatiner\n",
    "\n",
    "#now add a scroll bar\n",
    "treescrolly = tk.Scrollbar(frame1, orient=\"vertical\", command=tv1.yview)\n",
    "treescrollx = tk.Scrollbar(frame1, orient=\"horizontal\", command=tv1.xview)\n",
    "tv1.configure(xscrollcommand =treescrollx.set, yscrollcommand = treescrolly.set)\n",
    "treescrollx.pack(side=\"bottom\", fill=\"x\")\n",
    "treescrolly.pack(side =\"right\", fill=\"y\")"
   ]
  },
  {
   "cell_type": "code",
   "execution_count": 169,
   "metadata": {},
   "outputs": [],
   "source": [
    "def open():\n",
    "    filename = filedialog.askopenfilename(initialdir=r\"C:\\Users\\mmje5\\Desktop\\Coding Self Taught\\Python File Explorer\", title = \"Select a File\", filetypes=((\"excel files\", \"*.xlsx\"),(\"csv files\", \"*.csv\")))\n",
    "    #now we are goign to check if the file is an excel or a csv and open it accordingly\n",
    "    label_file[\"text\"] = filename\n",
    "    return None\n",
    "    \n",
    "\n",
    "\n",
    "\n",
    "    "
   ]
  },
  {
   "cell_type": "code",
   "execution_count": 170,
   "metadata": {},
   "outputs": [],
   "source": [
    "def Load_Excel_Data():\n",
    "    filepath = label_file[\"text\"]\n",
    "    try:\n",
    "        if filepath[-1] == 'x':\n",
    "            print(\"This is an excel file\")\n",
    "            excel_filename = r\"{}\".format(filepath)\n",
    "            df = pd.read_excel(excel_filename)\n",
    "        else:\n",
    "            print(\"This is a CSV file\")\n",
    "            csv_filename = r\"{}\".format(filepath)\n",
    "            df = pd.read_csv(csv_filename)\n",
    "    except ValueError:\n",
    "        tk.messagebox.showerror(\"Information\", \"The file you have chosen is invalid\")\n",
    "        return None\n",
    "    except FileNotFoundError:\n",
    "        tk.messagebox.showerror(\"Information\", f\"No such file {filepath} exists\")\n",
    "        return None\n",
    "        \n",
    "        \n",
    "    clear_data()\n",
    "    tv1[\"column\"] = list(df.columns)\n",
    "    tv1[\"show\"] = \"headings\"\n",
    "    for column in tv1[\"columns\"]:\n",
    "        tv1.heading(column, text=column)\n",
    "        \n",
    "    df_rows = df.to_numpy().tolist()\n",
    "    for row in df_rows:\n",
    "        tv1.insert(\"\",\"end\", values=row)\n",
    "    return None\n",
    "    "
   ]
  },
  {
   "cell_type": "code",
   "execution_count": 171,
   "metadata": {},
   "outputs": [],
   "source": [
    "def clear_data():\n",
    "    tv1.delete(*tv1.get_children())"
   ]
  },
  {
   "cell_type": "code",
   "execution_count": 172,
   "metadata": {},
   "outputs": [],
   "source": [
    "root.mainloop() # main loop starts the GUI - won't appear till this is called"
   ]
  },
  {
   "cell_type": "code",
   "execution_count": null,
   "metadata": {},
   "outputs": [],
   "source": []
  }
 ],
 "metadata": {
  "kernelspec": {
   "display_name": "Python 3",
   "language": "python",
   "name": "python3"
  },
  "language_info": {
   "codemirror_mode": {
    "name": "ipython",
    "version": 3
   },
   "file_extension": ".py",
   "mimetype": "text/x-python",
   "name": "python",
   "nbconvert_exporter": "python",
   "pygments_lexer": "ipython3",
   "version": "3.7.4"
  }
 },
 "nbformat": 4,
 "nbformat_minor": 2
}
