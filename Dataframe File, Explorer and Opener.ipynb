{
 "cells": [
  {
   "cell_type": "code",
   "execution_count": 381,
   "metadata": {},
   "outputs": [],
   "source": [
    "import tkinter as tk\n",
    "from tkinter import messagebox, filedialog, ttk\n",
    "import pandas as pd\n",
    "import mysql.connector\n",
    "from mysql.connector import errorcode"
   ]
  },
  {
   "cell_type": "markdown",
   "metadata": {},
   "source": [
    "Now its time to make the file explorer nicer and give it a nice layout. First python script lets you search, get the file path and can pick up CSV and XLSX files. \n",
    "Hopefully this file will do the same - show the contents of the file and then we will look at uplaoding it to a database."
   ]
  },
  {
   "cell_type": "code",
   "execution_count": 382,
   "metadata": {
    "scrolled": true
   },
   "outputs": [
    {
     "data": {
      "text/plain": [
       "''"
      ]
     },
     "execution_count": 382,
     "metadata": {},
     "output_type": "execute_result"
    }
   ],
   "source": [
    "root = tk.Tk() #widget with a title bar - intialised\n",
    "root.geometry(\"500x500\") #root starting geometry, 500 by 500 pixels\n",
    "root.pack_propagate(False) #don't repack yourself based on the things that are placed in there\n",
    "root.resizable(0,0) #don't resize"
   ]
  },
  {
   "cell_type": "code",
   "execution_count": 383,
   "metadata": {},
   "outputs": [],
   "source": [
    "frame1 = tk.LabelFrame(root, text = \"Excel Data\")\n",
    "frame1.place(height=250, width=500) #you can pack place, or grid into the widget. Pack just shoves it in any old way, grid makes \n",
    "#put your widget as a grid and select a location, place requires the specific pixels you want to cover"
   ]
  },
  {
   "cell_type": "code",
   "execution_count": 384,
   "metadata": {},
   "outputs": [],
   "source": [
    "def open():\n",
    "    filename = filedialog.askopenfilename(initialdir=r\"C:\\Users\\mmje5\\Desktop\\Coding Self Taught\\Python File Explorer\", title = \"Select a File\", filetypes=((\"excel files\", \"*.xlsx\"),(\"csv files\", \"*.csv\")))\n",
    "    #now we are goign to check if the file is an excel or a csv and open it accordingly\n",
    "    label_file[\"text\"] = filename\n",
    "    return None\n",
    "    \n",
    "\n",
    "\n",
    "\n",
    "    "
   ]
  },
  {
   "cell_type": "code",
   "execution_count": 390,
   "metadata": {},
   "outputs": [],
   "source": [
    "def Load_Excel_Data():\n",
    "    global df\n",
    "    filepath = label_file[\"text\"]\n",
    "    try:\n",
    "        if filepath[-1] == 'x':\n",
    "            print(\"This is an excel file\")\n",
    "            excel_filename = r\"{}\".format(filepath)\n",
    "            df = pd.read_excel(excel_filename)\n",
    "        else:\n",
    "            print(\"This is a CSV file\")\n",
    "            csv_filename = r\"{}\".format(filepath)\n",
    "            df = pd.read_csv(csv_filename)\n",
    "    except ValueError:\n",
    "        tk.messagebox.showerror(\"Information\", \"The file you have chosen is invalid\")\n",
    "        return None\n",
    "    except FileNotFoundError:\n",
    "        tk.messagebox.showerror(\"Information\", f\"No such file {filepath} exists\")\n",
    "        return None\n",
    "        \n",
    "        \n",
    "    clear_data()\n",
    "    tv1[\"column\"] = list(df.columns)\n",
    "    tv1[\"show\"] = \"headings\"\n",
    "    for column in tv1[\"columns\"]:\n",
    "        tv1.heading(column, text=column)\n",
    "        \n",
    "    df_rows = df.to_numpy().tolist()\n",
    "    for row in df_rows:\n",
    "        tv1.insert(\"\",\"end\", values=row)\n",
    "    return df\n",
    "    \n",
    "\n",
    "def upload_data():\n",
    "    try:\n",
    "          cnx = mysql.connector.connect(user='root', host='127.0.0.1', database='smart_van')\n",
    "        #defaul wamp server creates server on 127.0.0.1, username is root and password is empty (by default)\n",
    "    except mysql.connector.Error as err:\n",
    "        if err.errno == errorcode.ER_ACCESS_DENIED_ERROR:\n",
    "            print(\"Something is wrong with your user name or password\")\n",
    "        elif err.errno == errorcode.ER_BAD_DB_ERROR:\n",
    "            print(\"Database does not exist\")\n",
    "        else:\n",
    "            print(err)\n",
    "    else:\n",
    "        cursor = cnx.cursor()\n",
    "        for index, row in df.iterrows():\n",
    "            c = row[0]\n",
    "            i = str(row[1])\n",
    "            ef = str(row[2])\n",
    "            query = \"INSERT INTO uploadtest (Cars, ID, EnginefaultID) VALUES ('\"+ c + \"',\" + i +\", \"+ ef + \")\"\n",
    "            cursor.execute(query)\n",
    "            # Make sure data is committed to the database\n",
    "            cnx.commit()\n",
    "            \n",
    "            #print(row[0])\n",
    "            #print(type(row[0]))\n",
    "            \n",
    "        cursor.close()\n",
    "        cnx.close()\n",
    "        print(\"Upload Succesful\")"
   ]
  },
  {
   "cell_type": "code",
   "execution_count": 386,
   "metadata": {},
   "outputs": [],
   "source": [
    "def clear_data():\n",
    "    tv1.delete(*tv1.get_children())"
   ]
  },
  {
   "cell_type": "code",
   "execution_count": 387,
   "metadata": {},
   "outputs": [],
   "source": [
    "add_test = (\"INSERT INTO uploadtest \"\n",
    "               \"(Cars, ID, EnginefaultID)\"\n",
    "               \"VALUES (%s, %s, %s)\")\n",
    "\n",
    "    \n",
    "    "
   ]
  },
  {
   "cell_type": "code",
   "execution_count": 388,
   "metadata": {},
   "outputs": [],
   "source": [
    "#frame for open file dialog\n",
    "file_frame = tk.LabelFrame(root, text=\"Open file\")\n",
    "file_frame.place(height=100, width = 500, rely=0.65,relx=0)\n",
    "\n",
    "button1 = tk.Button(file_frame, text=\"Browse a File\", command = open)\n",
    "button1.place(rely=0.65, relx=0.7)\n",
    "\n",
    "button2 = tk.Button(file_frame, text=\"Load File\", command= Load_Excel_Data)\n",
    "button2.place(rely=0.65, relx=0.4)\n",
    "\n",
    "button3 = tk.Button(file_frame, text=\"Upload to DB\", command= upload_data) #make database upload command\n",
    "button3.place(rely =0.65, relx = 0.1)\n",
    "\n",
    "label_file = ttk.Label(file_frame, text = \"No File Selected\") #ttk has newer widgets\n",
    "label_file.place(relx=0,rely=0)\n",
    "\n",
    "#tree view widget - how to visualise dataframe\n",
    "tv1 = ttk.Treeview(frame1)\n",
    "tv1.place(relheight = 1, relwidth = 1) #place inside frame_1 as the conatiner and fill the whole conatiner\n",
    "\n",
    "#now add a scroll bar\n",
    "treescrolly = tk.Scrollbar(frame1, orient=\"vertical\", command=tv1.yview)\n",
    "treescrollx = tk.Scrollbar(frame1, orient=\"horizontal\", command=tv1.xview)\n",
    "tv1.configure(xscrollcommand =treescrollx.set, yscrollcommand = treescrolly.set)\n",
    "treescrollx.pack(side=\"bottom\", fill=\"x\")\n",
    "treescrolly.pack(side =\"right\", fill=\"y\")"
   ]
  },
  {
   "cell_type": "code",
   "execution_count": 389,
   "metadata": {},
   "outputs": [
    {
     "name": "stdout",
     "output_type": "stream",
     "text": [
      "This is an excel file\n"
     ]
    }
   ],
   "source": [
    "root.mainloop() # main loop starts the GUI - won't appear till this is called"
   ]
  },
  {
   "cell_type": "code",
   "execution_count": null,
   "metadata": {},
   "outputs": [],
   "source": []
  },
  {
   "cell_type": "code",
   "execution_count": null,
   "metadata": {},
   "outputs": [],
   "source": []
  }
 ],
 "metadata": {
  "kernelspec": {
   "display_name": "Python 3",
   "language": "python",
   "name": "python3"
  },
  "language_info": {
   "codemirror_mode": {
    "name": "ipython",
    "version": 3
   },
   "file_extension": ".py",
   "mimetype": "text/x-python",
   "name": "python",
   "nbconvert_exporter": "python",
   "pygments_lexer": "ipython3",
   "version": "3.7.4"
  }
 },
 "nbformat": 4,
 "nbformat_minor": 2
}
