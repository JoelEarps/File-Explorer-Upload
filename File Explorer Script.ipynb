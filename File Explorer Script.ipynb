{
 "cells": [
  {
   "cell_type": "code",
   "execution_count": 39,
   "metadata": {},
   "outputs": [],
   "source": [
    "from tkinter import *\n",
    "from PIL import ImageTk, Image\n",
    "from tkinter import filedialog"
   ]
  },
  {
   "cell_type": "code",
   "execution_count": 40,
   "metadata": {},
   "outputs": [],
   "source": [
    "#this is the main app\n",
    "root = Tk()"
   ]
  },
  {
   "cell_type": "code",
   "execution_count": 41,
   "metadata": {},
   "outputs": [],
   "source": [
    "#will return location of file\n",
    "#tell it which types of files to show, can select all but for this example we are only interested in excel7\n",
    "#set intial directory of where you want to look, can  be whole system. I was lookign within this folder\n",
    "#file types has two things (\"little description\", \".file ending\"), can do * for all types of file ending\n",
    "def open():\n",
    "    global my_file\n",
    "    root.filename = filedialog.askopenfilename(initialdir=r\"C:\\Users\\mmje5\\Desktop\\Coding Self Taught\\Python File Explorer\", title = \"Select a File\", filetypes=((\"excel files\", \"*.xlsx\"),(\"csv files\", \"*.csv\")))\n",
    "    my_label  = Label(root, text=root.filename).pack()\n",
    "    #print(root.filename[-1])\n",
    "    #now we are goign to check if the file is an excel or a csv and open it accordingly\n",
    "    if root.filename[-1] == 'x':\n",
    "        print(\"This is an excel file\")\n",
    "\n",
    "    else:\n",
    "        print(\"This is a CSV file\")"
   ]
  },
  {
   "cell_type": "code",
   "execution_count": 42,
   "metadata": {},
   "outputs": [],
   "source": [
    "my_btn = Button(root, text = \"Select File to Open\", command = open).pack()\n",
    "\n"
   ]
  },
  {
   "cell_type": "code",
   "execution_count": 43,
   "metadata": {},
   "outputs": [
    {
     "name": "stdout",
     "output_type": "stream",
     "text": [
      "This is an excel file\n"
     ]
    }
   ],
   "source": [
    "root.mainloop()"
   ]
  },
  {
   "cell_type": "code",
   "execution_count": null,
   "metadata": {},
   "outputs": [],
   "source": []
  }
 ],
 "metadata": {
  "kernelspec": {
   "display_name": "Python 3",
   "language": "python",
   "name": "python3"
  },
  "language_info": {
   "codemirror_mode": {
    "name": "ipython",
    "version": 3
   },
   "file_extension": ".py",
   "mimetype": "text/x-python",
   "name": "python",
   "nbconvert_exporter": "python",
   "pygments_lexer": "ipython3",
   "version": "3.7.4"
  }
 },
 "nbformat": 4,
 "nbformat_minor": 2
}
